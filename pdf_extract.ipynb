import fitz  # PyMuPDF

# Open and read the first page of the PDF
doc = fitz.open("Payslip_4049107.pdf")
print(doc[0].get_text())
