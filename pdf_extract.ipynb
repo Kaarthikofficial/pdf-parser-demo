{
 "cells": [
  {
   "cell_type": "code",
   "execution_count": 1,
   "id": "ae55fc7e-4374-4239-b4db-f38e0a63d198",
   "metadata": {},
   "outputs": [
    {
     "name": "stdout",
     "output_type": "stream",
     "text": [
      "Extraction complete.\n"
     ]
    }
   ],
   "source": [
    "import zipfile\n",
    "import os\n",
    "\n",
    "zip_path = \"VUEFR_Payslips_VUE_V06_F0_Y2025_P04_VUEFR_DETAILLE_2.zip\"\n",
    "extract_path = \"data/\"\n",
    "\n",
    "with zipfile.ZipFile(zip_path, 'r') as zip_ref:\n",
    "    zip_ref.extractall(extract_path)\n",
    "\n",
    "print(\"Extraction complete.\")\n"
   ]
  },
  {
   "cell_type": "code",
   "execution_count": 9,
   "id": "3fe21ea3-1bca-4329-8a45-8353e80fac66",
   "metadata": {
    "editable": true,
    "slideshow": {
     "slide_type": ""
    },
    "tags": []
   },
   "outputs": [
    {
     "name": "stdout",
     "output_type": "stream",
     "text": [
      "Collecting pdfplumber\n",
      "  Downloading pdfplumber-0.11.7-py3-none-any.whl.metadata (42 kB)\n",
      "Requirement already satisfied: pandas in /srv/conda/envs/notebook/lib/python3.10/site-packages (2.3.0)\n",
      "Requirement already satisfied: openpyxl in /srv/conda/envs/notebook/lib/python3.10/site-packages (3.1.5)\n",
      "Collecting pdfminer.six==20250506 (from pdfplumber)\n",
      "  Downloading pdfminer_six-20250506-py3-none-any.whl.metadata (4.2 kB)\n",
      "Collecting Pillow>=9.1 (from pdfplumber)\n",
      "  Downloading pillow-11.2.1-cp310-cp310-manylinux_2_28_x86_64.whl.metadata (8.9 kB)\n",
      "Collecting pypdfium2>=4.18.0 (from pdfplumber)\n",
      "  Downloading pypdfium2-4.30.1-py3-none-manylinux_2_17_x86_64.manylinux2014_x86_64.whl.metadata (48 kB)\n",
      "Requirement already satisfied: charset-normalizer>=2.0.0 in /srv/conda/envs/notebook/lib/python3.10/site-packages (from pdfminer.six==20250506->pdfplumber) (3.4.1)\n",
      "Requirement already satisfied: cryptography>=36.0.0 in /srv/conda/envs/notebook/lib/python3.10/site-packages (from pdfminer.six==20250506->pdfplumber) (44.0.0)\n",
      "Requirement already satisfied: numpy>=1.22.4 in /srv/conda/envs/notebook/lib/python3.10/site-packages (from pandas) (2.2.6)\n",
      "Requirement already satisfied: python-dateutil>=2.8.2 in /srv/conda/envs/notebook/lib/python3.10/site-packages (from pandas) (2.9.0.post0)\n",
      "Requirement already satisfied: pytz>=2020.1 in /srv/conda/envs/notebook/lib/python3.10/site-packages (from pandas) (2025.1)\n",
      "Requirement already satisfied: tzdata>=2022.7 in /srv/conda/envs/notebook/lib/python3.10/site-packages (from pandas) (2025.2)\n",
      "Requirement already satisfied: et-xmlfile in /srv/conda/envs/notebook/lib/python3.10/site-packages (from openpyxl) (2.0.0)\n",
      "Requirement already satisfied: six>=1.5 in /srv/conda/envs/notebook/lib/python3.10/site-packages (from python-dateutil>=2.8.2->pandas) (1.17.0)\n",
      "Requirement already satisfied: cffi>=1.12 in /srv/conda/envs/notebook/lib/python3.10/site-packages (from cryptography>=36.0.0->pdfminer.six==20250506->pdfplumber) (1.17.1)\n",
      "Requirement already satisfied: pycparser in /srv/conda/envs/notebook/lib/python3.10/site-packages (from cffi>=1.12->cryptography>=36.0.0->pdfminer.six==20250506->pdfplumber) (2.22)\n",
      "Downloading pdfplumber-0.11.7-py3-none-any.whl (60 kB)\n",
      "Downloading pdfminer_six-20250506-py3-none-any.whl (5.6 MB)\n",
      "\u001b[2K   \u001b[90m━━━━━━━━━━━━━━━━━━━━━━━━━━━━━━━━━━━━━━━━\u001b[0m \u001b[32m5.6/5.6 MB\u001b[0m \u001b[31m5.1 MB/s\u001b[0m eta \u001b[36m0:00:00\u001b[0m00:01\u001b[0m00:01\u001b[0m\n",
      "\u001b[?25hDownloading pillow-11.2.1-cp310-cp310-manylinux_2_28_x86_64.whl (4.6 MB)\n",
      "\u001b[2K   \u001b[90m━━━━━━━━━━━━━━━━━━━━━━━━━━━━━━━━━━━━━━━━\u001b[0m \u001b[32m4.6/4.6 MB\u001b[0m \u001b[31m5.4 MB/s\u001b[0m eta \u001b[36m0:00:00\u001b[0ma \u001b[36m0:00:01\u001b[0m\n",
      "\u001b[?25hDownloading pypdfium2-4.30.1-py3-none-manylinux_2_17_x86_64.manylinux2014_x86_64.whl (2.9 MB)\n",
      "\u001b[2K   \u001b[90m━━━━━━━━━━━━━━━━━━━━━━━━━━━━━━━━━━━━━━━━\u001b[0m \u001b[32m2.9/2.9 MB\u001b[0m \u001b[31m5.6 MB/s\u001b[0m eta \u001b[36m0:00:00\u001b[0ma \u001b[36m0:00:01\u001b[0m\n",
      "Installing collected packages: pypdfium2, Pillow, pdfminer.six, pdfplumber\n",
      "Successfully installed Pillow-11.2.1 pdfminer.six-20250506 pdfplumber-0.11.7 pypdfium2-4.30.1\n"
     ]
    }
   ],
   "source": [
    "!pip install pdfplumber pandas openpyxl"
   ]
  },
  {
   "cell_type": "code",
   "execution_count": 10,
   "id": "66996bbf-879f-42ee-889e-d2d73b11fdb3",
   "metadata": {},
   "outputs": [
    {
     "name": "stdout",
     "output_type": "stream",
     "text": [
      "✅ Table from page 3 saved to data/page_table.xlsx\n"
     ]
    }
   ],
   "source": [
    "import pdfplumber\n",
    "import pandas as pd\n",
    "\n",
    "pdf_path = \"data/VUEFR_Payslips_VUE_V06_F0_Y2025_P04_VUEFR_DETAILLE_2.pdf\"\n",
    "output_path = \"data/page_table.xlsx\"\n",
    "page_number = 2  # 0-indexed, so page 3 = 2\n",
    "\n",
    "with pdfplumber.open(pdf_path) as pdf:\n",
    "    page = pdf.pages[page_number]\n",
    "    table = page.extract_table()\n",
    "\n",
    "# Convert to DataFrame\n",
    "df = pd.DataFrame(table[1:], columns=table[0])\n",
    "df.to_excel(output_path, index=False)\n",
    "\n",
    "print(f\"✅ Table from page {page_number+1} saved to {output_path}\")\n"
   ]
  },
  {
   "cell_type": "code",
   "execution_count": 15,
   "id": "838514e3-aa9d-46f3-8b55-2e0bfd1b282a",
   "metadata": {},
   "outputs": [
    {
     "name": "stdout",
     "output_type": "stream",
     "text": [
      "Number of tables found: 2\n",
      "['Code', 'Libellé', 'Base', 'TauxSal', None, 'Montant Sal.', None, 'TauxPat', 'Montant Pat.']\n",
      "['1010\\n1191\\n1192\\n2003\\n2011\\n2407\\n2409\\n2503\\n2623\\n2624\\n2625\\n60G1\\n6921\\n7060\\n7070\\n70N0\\n71P0\\n71Q0\\n7250\\n7280\\n7280\\n7280\\n7280\\n72J0\\n7300\\n7310\\n7320\\n7900\\n7920\\n7930\\n7950\\n79P0\\n79S0\\n7D00\\n7D10\\n7S00\\n7X01\\n7X21\\n7X41\\n7X42', 'Salaire de Base\\nPaiement sup. proratisé\\nBonus responsabilité CPT\\nBonus trimestriel\\nRappel sur Salaire\\nInternational Per Diem\\nInternational Overnight P\\nFormation et activité adm\\nComplément de salaire PNT\\nPlus base Ile-de-France\\nPrime de produits assuran\\nTOTAL BRUT\\nURSSAF Maladie NRésident\\nMedical insurance (MULTI)\\nURSSAF Vieillesse\\nURSSAF Vieillesse TA\\nURSSAF Solidarité\\nAlloc Fam. Tx Réd.\\nURSSAF Alloc Fam. Tx Dif.\\nURSSAF Acc Travail\\nURSSAF Forfait social\\nURSSAF Forfait social 0325\\nURSSAF Forfait social 0225\\nURSSAF Forfait social 0125\\nURSSAF FNAL\\nPôle Emploi TA\\nPôle Emploi TB\\nPôle Emploi AGS\\nMutuelle - Obligatoire\\nTaxe Apprentissage\\nContrib Additionnelle App\\nConstruction\\nFormation continue\\nTaxe Apprentissage Solde\\nMaladie différ. Patronale\\nMaladie réduite patronale\\nCont. au dialogue social\\nCRPN\\nFonds Assurance\\nFonds Majoration\\nFonds Majoration bis\\nTotal Charges Ded.\\nTotal Charges Non Ded.', '92,52\\n10,00\\n1,00\\n4,00\\n11.610,10\\n11.610,10\\n2.394,25\\n11.610,10\\n11.610,10\\n11.610,10\\n11.610,10\\n19,55\\n10,03\\n6,52\\n5,01\\n11.610,10\\n2.394,25\\n7.182,75\\n9.577,00\\n3.925,00\\n11.610,10\\n11.610,10\\n11.610,10\\n11.610,10\\n11.610,10\\n11.610,10\\n11.610,10\\n11.610,10\\n11.610,10\\n11.610,10\\n3.925,00\\n3.925,00', '115,67\\n149,69\\n115,67\\n5,500\\n0,400\\n6,900\\n0,350\\n8,510\\n0,050\\n0,540\\n0,010', None, '4.255,71\\n876,26\\n1.001,85\\n587,16\\n1.817,39\\n1.156,70\\n149,69\\n462,68\\n764,18\\n327,50\\n210,98\\n11.610,10\\n638,56\\n160,40\\n46,44\\n165,20\\n13,74\\n988,02\\n5,81\\n21,20\\n0,39\\n2.039,76\\n0,00', None, '2,020\\n8,550\\n0,300\\n3,450\\n1,800\\n0,740\\n8,000\\n8,000\\n8,000\\n8,000\\n0,500\\n3,000\\n3,000\\n0,250\\n0,350\\n0,590\\n0,400\\n0,450\\n1,000\\n0,090\\n6,000\\n7,000\\n0,016\\n15,130\\n0,050\\n0,540\\n0,390', '234,52\\n204,71\\n34,83\\n400,55\\n208,98\\n85,91\\n1,56\\n0,80\\n0,52\\n0,40\\n58,05\\n71,83\\n215,48\\n23,94\\n13,74\\n68,50\\n46,44\\n52,25\\n116,10\\n10,45\\n696,61\\n812,71\\n1,86\\n1.756,61\\n5,81\\n21,20\\n15,31\\n5.159,67']\n",
      "['/510', 'Montant net social', '', '', None, '9.730,74', None, '', '']\n",
      "['NET À PAYER AVANT IMPÔT SUR LE REVENU 9.570,34', None, None, None, None, None, None, None, None]\n",
      "['dont évolution de la rémunération liée à la suppresion des cotisations chômage et maladie', None, None, None, None, None, None, None, '316,93']\n"
     ]
    }
   ],
   "source": [
    "import pdfplumber\n",
    "import pandas as pd\n",
    "\n",
    "pdf_path = \"data/VUEFR_Payslips_VUE_V06_F0_Y2025_P04_VUEFR_DETAILLE_2.pdf\"\n",
    "page_number = 2  # for example, page 3 (0-indexed)\n",
    "output_excel = \"data/output_corrected.xlsx\"\n",
    "\n",
    "with pdfplumber.open(pdf_path) as pdf:\n",
    "    page = pdf.pages[page_number]\n",
    "    \n",
    "    # Extract table(s)\n",
    "    tables = page.extract_tables()\n",
    "    print(f\"Number of tables found: {len(tables)}\")\n",
    "\n",
    "    # Pick the largest table (assuming it’s the main one)\n",
    "    main_table = max(tables, key=lambda t: len(t))\n",
    "    \n",
    "    # Show a preview to inspect\n",
    "    for row in main_table[:5]:\n",
    "        print(row)\n"
   ]
  },
  {
   "cell_type": "code",
   "execution_count": 16,
   "id": "70e3d565-55dc-49df-8146-bb56f88c400a",
   "metadata": {},
   "outputs": [
    {
     "name": "stdout",
     "output_type": "stream",
     "text": [
      "                                                Code  \\\n",
      "0  1010\\n1191\\n1192\\n2003\\n2011\\n2407\\n2409\\n2503...   \n",
      "1                                               /510   \n",
      "2     NET À PAYER AVANT IMPÔT SUR LE REVENU 9.570,34   \n",
      "3  dont évolution de la rémunération liée à la su...   \n",
      "4                    Impôt sur le revenu à la source   \n",
      "\n",
      "                                             Libellé  \\\n",
      "0  Salaire de Base\\nPaiement sup. proratisé\\nBonu...   \n",
      "1                                 Montant net social   \n",
      "2                                               None   \n",
      "3                                               None   \n",
      "4                                               None   \n",
      "\n",
      "                                                Base  \\\n",
      "0  92,52\\n10,00\\n1,00\\n4,00\\n11.610,10\\n11.610,10...   \n",
      "1                                                      \n",
      "2                                               None   \n",
      "3                                               None   \n",
      "4                                               None   \n",
      "\n",
      "                                             TauxSal col_4  \\\n",
      "0  115,67\\n149,69\\n115,67\\n5,500\\n0,400\\n6,900\\n0...  None   \n",
      "1                                                     None   \n",
      "2                                               None  None   \n",
      "3                                               None  None   \n",
      "4                                               None  Base   \n",
      "\n",
      "                                        Montant Sal.             col_6  \\\n",
      "0  4.255,71\\n876,26\\n1.001,85\\n587,16\\n1.817,39\\n...              None   \n",
      "1                                           9.730,74              None   \n",
      "2                                               None              None   \n",
      "3                                               None              None   \n",
      "4                                               None  Taux non person.   \n",
      "\n",
      "                                             TauxPat  \\\n",
      "0  2,020\\n8,550\\n0,300\\n3,450\\n1,800\\n0,740\\n8,00...   \n",
      "1                                                      \n",
      "2                                               None   \n",
      "3                                               None   \n",
      "4                                               None   \n",
      "\n",
      "                                        Montant Pat.  \n",
      "0  234,52\\n204,71\\n34,83\\n400,55\\n208,98\\n85,91\\n...  \n",
      "1                                                     \n",
      "2                                               None  \n",
      "3                                             316,93  \n",
      "4                                            Montant  \n",
      "✅ Saved cleaned table to data/output_corrected.xlsx\n"
     ]
    }
   ],
   "source": [
    "# Convert list of lists to DataFrame\n",
    "df = pd.DataFrame(main_table[1:], columns=main_table[0])\n",
    "\n",
    "# Optional: clean up column names (strip spaces)\n",
    "df.columns = [col.strip() if col else f\"col_{i}\" for i, col in enumerate(df.columns)]\n",
    "\n",
    "# Inspect the DataFrame\n",
    "print(df.head())\n",
    "\n",
    "# Save to Excel\n",
    "df.to_excel(output_excel, index=False)\n",
    "print(f\"✅ Saved cleaned table to {output_excel}\")\n"
   ]
  },
  {
   "cell_type": "code",
   "execution_count": 21,
   "id": "51a63503-de8e-42d7-9f9f-fab98f1f173c",
   "metadata": {},
   "outputs": [
    {
     "name": "stdout",
     "output_type": "stream",
     "text": [
      "✅ All done! Final table saved to: data/final_table_cleaned.xlsx\n"
     ]
    }
   ],
   "source": [
    "import pandas as pd\n",
    "\n",
    "# Load your data\n",
    "df = pd.read_excel(\"data/output_corrected.xlsx\")\n",
    "\n",
    "# Step 1: Split cells into lists\n",
    "for col in df.columns:\n",
    "    df[col] = df[col].astype(str).str.split('\\n')\n",
    "\n",
    "# Step 2: Pad each row's lists so they all have the same length\n",
    "def pad_row(row):\n",
    "    max_len = max(len(row[col]) for col in df.columns)\n",
    "    for col in df.columns:\n",
    "        row[col] += ['0'] * (max_len - len(row[col]))  # pad with '0' as string\n",
    "    return row\n",
    "\n",
    "df = df.apply(pad_row, axis=1)\n",
    "\n",
    "# Step 3: Now explode all columns\n",
    "df_expanded = df.explode(list(df.columns)).reset_index(drop=True)\n",
    "\n",
    "# Step 4: Clean up (strip whitespace)\n",
    "df_expanded = df_expanded.map(lambda x: x.strip() if isinstance(x, str) else x)\n",
    "\n",
    "# Step 5: Replace any remaining empty cells with 0\n",
    "df_expanded.replace('', '0', inplace=True)\n",
    "df_expanded.fillna('0', inplace=True)\n",
    "\n",
    "# Step 6: Save\n",
    "output_path = \"data/final_table_cleaned.xlsx\"\n",
    "df_expanded.to_excel(output_path, index=False)\n",
    "\n",
    "print(f\"✅ All done! Final table saved to: {output_path}\")"
   ]
  },
  {
   "cell_type": "code",
   "execution_count": null,
   "id": "e2a6e041-3481-46c4-abaf-c8e6ab3adef9",
   "metadata": {},
   "outputs": [],
   "source": []
  }
 ],
 "metadata": {
  "kernelspec": {
   "display_name": "Python 3 (ipykernel)",
   "language": "python",
   "name": "python3"
  },
  "language_info": {
   "codemirror_mode": {
    "name": "ipython",
    "version": 3
   },
   "file_extension": ".py",
   "mimetype": "text/x-python",
   "name": "python",
   "nbconvert_exporter": "python",
   "pygments_lexer": "ipython3",
   "version": "3.10.16"
  }
 },
 "nbformat": 4,
 "nbformat_minor": 5
}
